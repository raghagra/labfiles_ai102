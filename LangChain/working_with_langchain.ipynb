{
 "cells": [
  {
   "cell_type": "markdown",
   "id": "6d251ced",
   "metadata": {},
   "source": [
    "# How to use LangChain and Azure OpenAI with Python\n",
    "\n",
    "\n",
    "Langchain is an open source framework for developing applications using large language models (LLM). <br>\n",
    "\n",
    "This guide will demonstrate how to setup and use Azure OpenAI models' API with LangChain.\n",
    "    "
   ]
  },
  {
   "cell_type": "markdown",
   "id": "9d0ee335",
   "metadata": {},
   "source": [
    "## Set Up\n",
    "The following libraries must be installed to use LangChain with Azure OpenAI.<br>"
   ]
  },
  {
   "cell_type": "code",
   "execution_count": 1,
   "id": "35289cea",
   "metadata": {},
   "outputs": [
    {
     "name": "stdout",
     "output_type": "stream",
     "text": [
      "Defaulting to user installation because normal site-packages is not writeableNote: you may need to restart the kernel to use updated packages.\n",
      "\n",
      "Requirement already satisfied: langchain in c:\\program files\\python311\\lib\\site-packages (0.0.127)\n",
      "Requirement already satisfied: PyYAML>=5.4.1 in c:\\program files\\python311\\lib\\site-packages (from langchain) (6.0)\n",
      "Requirement already satisfied: SQLAlchemy<2,>=1 in c:\\program files\\python311\\lib\\site-packages (from langchain) (1.4.47)\n",
      "Requirement already satisfied: aiohttp<4.0.0,>=3.8.3 in c:\\program files\\python311\\lib\\site-packages (from langchain) (3.8.4)\n",
      "Requirement already satisfied: dataclasses-json<0.6.0,>=0.5.7 in c:\\program files\\python311\\lib\\site-packages (from langchain) (0.5.7)\n",
      "Requirement already satisfied: numpy<2,>=1 in c:\\users\\mandugunduvenkateswa\\appdata\\roaming\\python\\python311\\site-packages (from langchain) (1.25.2)\n",
      "Requirement already satisfied: pydantic<2,>=1 in c:\\program files\\python311\\lib\\site-packages (from langchain) (1.10.7)\n",
      "Requirement already satisfied: requests<3,>=2 in c:\\program files\\python311\\lib\\site-packages (from langchain) (2.28.2)\n",
      "Requirement already satisfied: tenacity<9.0.0,>=8.1.0 in c:\\program files\\python311\\lib\\site-packages (from langchain) (8.2.2)\n",
      "Requirement already satisfied: attrs>=17.3.0 in c:\\program files\\python311\\lib\\site-packages (from aiohttp<4.0.0,>=3.8.3->langchain) (22.2.0)\n",
      "Requirement already satisfied: charset-normalizer<4.0,>=2.0 in c:\\program files\\python311\\lib\\site-packages (from aiohttp<4.0.0,>=3.8.3->langchain) (3.1.0)\n",
      "Requirement already satisfied: multidict<7.0,>=4.5 in c:\\program files\\python311\\lib\\site-packages (from aiohttp<4.0.0,>=3.8.3->langchain) (6.0.4)\n",
      "Requirement already satisfied: async-timeout<5.0,>=4.0.0a3 in c:\\program files\\python311\\lib\\site-packages (from aiohttp<4.0.0,>=3.8.3->langchain) (4.0.2)\n",
      "Requirement already satisfied: yarl<2.0,>=1.0 in c:\\program files\\python311\\lib\\site-packages (from aiohttp<4.0.0,>=3.8.3->langchain) (1.8.2)\n",
      "Requirement already satisfied: frozenlist>=1.1.1 in c:\\program files\\python311\\lib\\site-packages (from aiohttp<4.0.0,>=3.8.3->langchain) (1.3.3)\n",
      "Requirement already satisfied: aiosignal>=1.1.2 in c:\\program files\\python311\\lib\\site-packages (from aiohttp<4.0.0,>=3.8.3->langchain) (1.3.1)\n",
      "Requirement already satisfied: marshmallow<4.0.0,>=3.3.0 in c:\\program files\\python311\\lib\\site-packages (from dataclasses-json<0.6.0,>=0.5.7->langchain) (3.19.0)\n",
      "Requirement already satisfied: marshmallow-enum<2.0.0,>=1.5.1 in c:\\program files\\python311\\lib\\site-packages (from dataclasses-json<0.6.0,>=0.5.7->langchain) (1.5.1)\n",
      "Requirement already satisfied: typing-inspect>=0.4.0 in c:\\program files\\python311\\lib\\site-packages (from dataclasses-json<0.6.0,>=0.5.7->langchain) (0.8.0)\n",
      "Requirement already satisfied: typing-extensions>=4.2.0 in c:\\program files\\python311\\lib\\site-packages (from pydantic<2,>=1->langchain) (4.5.0)\n",
      "Requirement already satisfied: idna<4,>=2.5 in c:\\program files\\python311\\lib\\site-packages (from requests<3,>=2->langchain) (3.4)\n",
      "Requirement already satisfied: urllib3<1.27,>=1.21.1 in c:\\program files\\python311\\lib\\site-packages (from requests<3,>=2->langchain) (1.26.15)\n",
      "Requirement already satisfied: certifi>=2017.4.17 in c:\\program files\\python311\\lib\\site-packages (from requests<3,>=2->langchain) (2022.12.7)\n",
      "Requirement already satisfied: greenlet!=0.4.17 in c:\\program files\\python311\\lib\\site-packages (from SQLAlchemy<2,>=1->langchain) (2.0.2)\n",
      "Requirement already satisfied: packaging>=17.0 in c:\\program files\\python311\\lib\\site-packages (from marshmallow<4.0.0,>=3.3.0->dataclasses-json<0.6.0,>=0.5.7->langchain) (23.0)\n",
      "Requirement already satisfied: mypy-extensions>=0.3.0 in c:\\program files\\python311\\lib\\site-packages (from typing-inspect>=0.4.0->dataclasses-json<0.6.0,>=0.5.7->langchain) (1.0.0)\n"
     ]
    }
   ],
   "source": [
    "#%pip install --upgrade openai\n",
    "%pip install langchain"
   ]
  },
  {
   "cell_type": "markdown",
   "id": "ba880453",
   "metadata": {},
   "source": [
    "## API Configuation and Deployed Model Setup\n",
    "\n",
    "After installing the necessary libraies, the API must be configured. The code below shows how to configure the API directly in your Python environment. \n"
   ]
  },
  {
   "cell_type": "code",
   "execution_count": 8,
   "id": "a9752fda",
   "metadata": {
    "scrolled": true
   },
   "outputs": [],
   "source": [
    "import openai\n",
    "import json\n",
    "import os\n",
    "from langchain.chat_models import AzureChatOpenAI\n",
    "from langchain.schema import HumanMessage\n",
    "from langchain import LLMChain\n",
    "\n",
    "\n",
    "# Load config values\n",
    "with open(r'config.json') as config_file:\n",
    "    config_details = json.load(config_file)\n",
    "\n",
    "# The base URL for your Azure OpenAI resource. e.g. \"https://<your resource name>.openai.azure.com\"\n",
    "openai_api_base=config_details['OPENAI_API_BASE']\n",
    "    \n",
    "# API version e.g. \"2023-07-01-preview\"\n",
    "openai_api_version=config_details['OPENAI_API_VERSION']\n",
    "\n",
    "# The name of your Azure OpenAI deployment chat model. e.g. \"gpt-35-turbo-0613\"\n",
    "deployment_name=config_details['DEPLOYMENT_NAME']\n",
    "\n",
    "# The API key for your Azure OpenAI resource.\n",
    "openai_api_key = config_details[\"openai_api_key\"]\n",
    "\n",
    "# This is set to `azure`\n",
    "openai_api_type=\"azure\""
   ]
  },
  {
   "cell_type": "markdown",
   "id": "52da840e",
   "metadata": {},
   "source": [
    "## Deployed Model Setup"
   ]
  },
  {
   "cell_type": "code",
   "execution_count": 9,
   "id": "041f0a56",
   "metadata": {},
   "outputs": [
    {
     "data": {
      "text/plain": [
       "AIMessage(content=\"In the depths of the night,\\nAs the moon shines so bright,\\nMy mind wanders and roams,\\nAs I sit here all alone.\\n\\nThe stars twinkle above,\\nThe world sleeps like a dove,\\nBut my thoughts, they never cease,\\nAs I try to find some peace.\\n\\nThe darkness envelops me,\\nIt's where I am truly free,\\nTo explore the unknown,\\nAnd make it my very own.\\n\\nI hear the whispers of the wind,\\nAs it caresses my skin,\\nAnd I know I'm not alone,\\nIn this world that I call home.\\n\\nFor nature is my companion,\\nIn this midnight exploration,\\nAnd together we can create,\\nA world that's truly great.\\n\\nThe night can sometimes be scary,\\nBut it's also truly merry,\\nAs I find solace in my thoughts,\\nAnd the secrets that it holds.\\n\\nSo I sit here and ponder,\\nAs the world outside continues to wander,\\nFor in the darkness I find,\\nThe light that guides my mind.\", additional_kwargs={})"
      ]
     },
     "execution_count": 9,
     "metadata": {},
     "output_type": "execute_result"
    }
   ],
   "source": [
    "# Create an instance of chat llm\n",
    "llm = AzureChatOpenAI(\n",
    "    openai_api_base=openai_api_base,\n",
    "    openai_api_version=openai_api_version,\n",
    "    deployment_name=deployment_name,\n",
    "    openai_api_key=openai_api_key,\n",
    "    openai_api_type=openai_api_type,\n",
    ")\n",
    "\n",
    "llm([HumanMessage(content=\"Write me a poem\")])"
   ]
  },
  {
   "cell_type": "markdown",
   "id": "dc7ea2d4",
   "metadata": {},
   "source": [
    "## PromptTemplates\n",
    "\n",
    "Langchain provides a built in PromptsTemplate module to simplify the construction of prompts to get more specific answers."
   ]
  },
  {
   "cell_type": "code",
   "execution_count": 10,
   "id": "927d4bac",
   "metadata": {},
   "outputs": [
    {
     "name": "stdout",
     "output_type": "stream",
     "text": [
      "Example #1:\n",
      "content=\"For acne-prone skin, I would recommend a face wash that contains salicylic acid or benzoyl peroxide as they are effective in unclogging pores and killing acne-causing bacteria. Some of the recommended face washes for acne-prone skin are Neutrogena Oil-Free Acne Wash, La Roche-Posay Effaclar Medicated Gel Cleanser, and CeraVe Foaming Facial Cleanser. However, it is important to note that everyone's skin is different, and it is best to consult with a dermatologist to determine the best regimen for your specific skin concerns.\" additional_kwargs={}\n",
      "\n",
      "\n",
      "Example #2:\n",
      "There are plenty of beautiful destinations that offer warm weather and sandy beaches in December. Here are some recommendations:\n",
      "\n",
      "1. The Maldives- The Maldives is a postcard-perfect destination with turquoise lagoons, palm trees, and white sand beaches. It's a great place to relax and unwind as you soak up the sun.\n",
      "\n",
      "2. Phuket, Thailand- Phuket is famous for its beautiful beaches, parties and nightlife, and stunning landscapes. You can take a boat tour to visit some of the surrounding islands, or simply relax on one of the many beaches.\n",
      "\n",
      "3. Bali, Indonesia- Bali is one of the most popular destinations in Southeast Asia, with its beautiful landscapes, fascinating culture, and pristine beaches. Bali is a perfect place to explore, relax and enjoy the warm weather.\n",
      "\n",
      "4. Cancun, Mexico- Cancun offers miles of beautiful beaches and an abundance of outdoor activities, including snorkeling, scuba diving, and swimming with dolphins. There are also plenty of cultural and historic attractions to explore.\n",
      "\n",
      "These are just a few of the many destinations that offer warm weather and beaches in December. I hope this helps!\n"
     ]
    }
   ],
   "source": [
    "from langchain import PromptTemplate\n",
    "\n",
    "from langchain.prompts.chat import (\n",
    "    ChatPromptTemplate,\n",
    "    SystemMessagePromptTemplate,\n",
    "    HumanMessagePromptTemplate,\n",
    ")\n",
    "\n",
    "\n",
    "# First Example\n",
    "template = \"\"\"\n",
    "You are a skin care consulant that recommends products based on customer\n",
    "needs and preferences.\n",
    "\n",
    "What is a good {product_type} to help with {customer_request}?\n",
    "\"\"\"\n",
    "\n",
    "prompt = PromptTemplate(\n",
    "input_variables=[\"product_type\", \"customer_request\"],\n",
    "template=template,\n",
    ")\n",
    "\n",
    "print(\"Example #1:\")\n",
    "print(llm([HumanMessage(content=prompt.format(\n",
    "        product_type=\"face wash\",\n",
    "        customer_request = \"acne prone skin\"\n",
    "    ))]\n",
    "))\n",
    "print(\"\\n\")\n",
    "\n",
    "# Second Example\n",
    "system_message = \"You are an AI assistant travel assistant that provides vacation recommendations.\"\n",
    "\n",
    "system_message_prompt = SystemMessagePromptTemplate.from_template(system_message)\n",
    "human_template=\"{text}\"\n",
    "human_message_prompt = HumanMessagePromptTemplate.from_template(human_template)\n",
    "chat_prompt = ChatPromptTemplate.from_messages([system_message_prompt, human_message_prompt])\n",
    "chain = LLMChain(llm=llm, prompt=chat_prompt)\n",
    "result = chain.run(f\"Where should I go on vaction in Decemember for warm weather and beaches?\")\n",
    "print(\"Example #2:\")\n",
    "print(result)"
   ]
  },
  {
   "cell_type": "markdown",
   "id": "7b6723eb",
   "metadata": {},
   "source": [
    "## Chains\n",
    "There are many applications of chains that allow you to combine numerous LLM calls and actions.  <br>\n",
    "\n",
    "### Simple Sequential Chains  <br>\n",
    "Allow you to feed the output of one LLM Chain as input for another."
   ]
  },
  {
   "cell_type": "code",
   "execution_count": 11,
   "id": "af7c236f",
   "metadata": {},
   "outputs": [],
   "source": [
    "from langchain.chains import SimpleSequentialChain"
   ]
  },
  {
   "cell_type": "code",
   "execution_count": 12,
   "id": "2a4a32f0",
   "metadata": {},
   "outputs": [],
   "source": [
    "description_template = \"\"\"Your job is to come up with a fun DIY project for the specified gender, age, and description of a kid.\n",
    "% CHILD_DESCRIPTION\n",
    "{child_description}\n",
    "\n",
    "YOUR RESPONSE:\n",
    "\"\"\"\n",
    "description_prompt_template = PromptTemplate(input_variables=[\"child_description\"], template=description_template)\n",
    "\n",
    "description_chain = LLMChain(llm=llm, prompt=description_prompt_template)"
   ]
  },
  {
   "cell_type": "code",
   "execution_count": 13,
   "id": "6eec47ff",
   "metadata": {},
   "outputs": [],
   "source": [
    "diy_description_template = \"\"\"Given a DIY project, give a short and simple recipe step-by-step guide on how to complete the project and a materials list.\n",
    "% DIY_PROJECT\n",
    "{diy_project}\n",
    "\n",
    "YOUR RESPONSE:\n",
    "\"\"\"\n",
    "diy_prompt_template = PromptTemplate(input_variables=[\"diy_project\"], template=diy_description_template)\n",
    "\n",
    "diy_chain = LLMChain(llm=llm, prompt=diy_prompt_template)"
   ]
  },
  {
   "cell_type": "code",
   "execution_count": 14,
   "id": "84a15aea",
   "metadata": {},
   "outputs": [],
   "source": [
    "overall_chain = SimpleSequentialChain(chains=[description_chain, diy_chain], verbose=True)"
   ]
  },
  {
   "cell_type": "code",
   "execution_count": 15,
   "id": "15928f72",
   "metadata": {},
   "outputs": [
    {
     "name": "stdout",
     "output_type": "stream",
     "text": [
      "\n",
      "\n",
      "\u001b[1m> Entering new SimpleSequentialChain chain...\u001b[0m\n",
      "\u001b[36;1m\u001b[1;3mA fun DIY project for a 5-year-old girl can be making a personalized handprint or footprint flower garden with paint. All you need is a canvas, paint, and some flowers print-outs. You can help her dip her hand or foot into the paint and press it onto the canvas to create flower petals. Then, she can use brushes to add some details like stems and leaves. Once everything is dried, you can glue on the flower print-outs to complete her beautiful garden masterpiece. It's a great memory to keep and can also be hung up as a wall decoration in her room.\u001b[0m\n",
      "\u001b[33;1m\u001b[1;3mMaterials:\n",
      "- Canvas\n",
      "- Paint (assorted colors)\n",
      "- Paintbrushes\n",
      "- Flower print-outs\n",
      "- Glue\n",
      "\n",
      "Instructions:\n",
      "1. Lay down a protective surface on your workspace, such as newspaper or a plastic sheet.\n",
      "2. Help your child choose a color for the petals and pour a small amount onto a palette or plate.\n",
      "3. Have your child dip their hand or foot into the paint and press it onto the canvas, creating petals. Repeat until you have enough flowers.\n",
      "4. Using a brush and other colors of paint, add stems and leaves to the canvas. Let it dry.\n",
      "5. Once dried, arrange and glue the flower print-outs onto the canvas to complete the garden scene.\n",
      "6. Let the glue dry completely before displaying!\u001b[0m\n",
      "\n",
      "\u001b[1m> Finished chain.\u001b[0m\n"
     ]
    }
   ],
   "source": [
    "review = overall_chain.run(\"5-year-old girl\")"
   ]
  }
 ],
 "metadata": {
  "kernelspec": {
   "display_name": "Python 3 (ipykernel)",
   "language": "python",
   "name": "python3"
  },
  "language_info": {
   "codemirror_mode": {
    "name": "ipython",
    "version": 3
   },
   "file_extension": ".py",
   "mimetype": "text/x-python",
   "name": "python",
   "nbconvert_exporter": "python",
   "pygments_lexer": "ipython3",
   "version": "3.11.4"
  }
 },
 "nbformat": 4,
 "nbformat_minor": 5
}
