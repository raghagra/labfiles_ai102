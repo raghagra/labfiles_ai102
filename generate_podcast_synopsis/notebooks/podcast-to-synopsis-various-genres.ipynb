{
 "cells": [
  {
   "attachments": {},
   "cell_type": "markdown",
   "metadata": {},
   "source": [
    "# Generate Podcast Synopsis for Various Genres"
   ]
  },
  {
   "cell_type": "code",
   "execution_count": 1,
   "metadata": {},
   "outputs": [],
   "source": [
    "%load_ext autoreload\n",
    "%autoreload 2\n",
    "\n",
    "from IPython.core.interactiveshell import InteractiveShell\n",
    "InteractiveShell.ast_node_interactivity = \"all\""
   ]
  },
  {
   "attachments": {},
   "cell_type": "markdown",
   "metadata": {},
   "source": [
    "## Set Up Azure OpenAI"
   ]
  },
  {
   "cell_type": "code",
   "execution_count": 2,
   "metadata": {},
   "outputs": [],
   "source": [
    "import os\n",
    "import openai\n",
    "\n",
    "# Set up Azure OpenAI\n",
    "openai.api_type = \"azure\"\n",
    "openai.api_base = 'https://azure-openai-test21.openai.azure.com/'\n",
    "openai.api_version = \"2023-03-15-preview\"\n",
    "openai.api_key = 'd1869cee351446e2bc6b6ffef2207576'\n"
   ]
  },
  {
   "attachments": {},
   "cell_type": "markdown",
   "metadata": {},
   "source": [
    "## Deploy a Model"
   ]
  },
  {
   "cell_type": "code",
   "execution_count": 3,
   "metadata": {},
   "outputs": [
    {
     "name": "stdout",
     "output_type": "stream",
     "text": [
      "Found a succeeded deployment of \"gpt-35-turbo\" that supports text completion with id: gpt-35-turbo.\n"
     ]
    }
   ],
   "source": [
    "# id of desired_model\n",
    "desired_model = 'gpt-35-turbo' # suitable for text generation\n",
    "desired_capability = 'completion'\n",
    "\n",
    "# list models deployed with\n",
    "deployment_id = None\n",
    "result = openai.Deployment.list()\n",
    "\n",
    "for deployment in result.data:\n",
    "    if deployment[\"status\"] != \"succeeded\":\n",
    "        continue\n",
    "    \n",
    "    model = openai.Model.retrieve(deployment[\"model\"])\n",
    "\n",
    "    # check if desired_model is deployed, and if it has 'completion' capability\n",
    "    if model[\"id\"] == desired_model and model['capabilities'][desired_capability]:\n",
    "        deployment_id = deployment[\"id\"]\n",
    "        \n",
    "# if no model deployed, deploy one\n",
    "if not deployment_id:\n",
    "    print('No deployment with status: succeeded found.')\n",
    "\n",
    "    # Deploy the model\n",
    "    print(f'Creating a new deployment with model: {desired_model}')\n",
    "    result = openai.Deployment.create(model=desired_model, scale_settings={\"scale_type\":\"standard\"})\n",
    "    deployment_id = result[\"id\"]\n",
    "    print(f'Successfully created {desired_model} that supports text {desired_capability} with id: {deployment_id}.')\n",
    "else:\n",
    "    print(f'Found a succeeded deployment of \"{desired_model}\" that supports text {desired_capability} with id: {deployment_id}.')"
   ]
  },
  {
   "attachments": {},
   "cell_type": "markdown",
   "metadata": {},
   "source": [
    "## Text chunks generator"
   ]
  },
  {
   "cell_type": "code",
   "execution_count": 4,
   "metadata": {},
   "outputs": [],
   "source": [
    "# A generator that split a text into smaller chunks of size n, preferably ending at the end of a sentence\n",
    "def chunk_generator(text, n, tokenizer):\n",
    "    tokens = tokenizer.encode(text)\n",
    "    i = 0\n",
    "    while i < len(tokens):\n",
    "        # Find the nearest end of sentence within a range of 0.5 * n and 1.5 * n tokens\n",
    "        j = min(i + int(1.5 * n), len(tokens))\n",
    "        while j > i + int(0.5 * n):\n",
    "            # Decode the tokens and check for full stop or newline\n",
    "            chunk = tokenizer.decode(tokens[i:j])\n",
    "            if chunk.endswith(\".\") or chunk.endswith(\"\\n\"):\n",
    "                break\n",
    "            j -= 1\n",
    "        # If no end of sentence found, use n tokens as the chunk size\n",
    "        if j == i + int(0.5 * n):\n",
    "            j = min(i + n, len(tokens))\n",
    "        yield tokens[i:j]\n",
    "        i = j\n"
   ]
  },
  {
   "attachments": {},
   "cell_type": "markdown",
   "metadata": {},
   "source": [
    "## Request API"
   ]
  },
  {
   "cell_type": "code",
   "execution_count": 5,
   "metadata": {},
   "outputs": [],
   "source": [
    "def request_api(document, prompt_postfix, max_tokens):\n",
    "    prompt = prompt_postfix.replace('<document>',document)\n",
    "    #print(f'>>> prompt : {prompt}')\n",
    "\n",
    "    response = openai.Completion.create(  \n",
    "    deployment_id=deployment_id, \n",
    "    prompt=prompt,\n",
    "    temperature=0.5,\n",
    "    max_tokens=max_tokens,\n",
    "    top_p=1,\n",
    "    frequency_penalty=1,\n",
    "    presence_penalty=1,\n",
    "    stop='###')\n",
    "\n",
    "    return response['choices'][0]['text']"
   ]
  },
  {
   "attachments": {},
   "cell_type": "markdown",
   "metadata": {},
   "source": [
    "## Generate Synopsis"
   ]
  },
  {
   "cell_type": "code",
   "execution_count": 6,
   "metadata": {},
   "outputs": [],
   "source": [
    "def get_synopsis(content, prompt_postfix):\n",
    "    import tiktoken\n",
    "\n",
    "    synopsis_chunck = []\n",
    "    n = 2000 # max tokens for chuncking\n",
    "    max_tokens = 1000 # max tokens for response\n",
    "\n",
    "    tokenizer = tiktoken.get_encoding('p50k_base')\n",
    "\n",
    "    # Generate chunkcs    \n",
    "    chunks = chunk_generator(content, n, tokenizer)\n",
    "\n",
    "    # Decode chunk of text\n",
    "    text_chunks = [tokenizer.decode(chunk) for chunk in chunks]\n",
    "\n",
    "    # Request api\n",
    "    for chunk in text_chunks:\n",
    "        synopsis_chunck.append(request_api(chunk, prompt_postfix, max_tokens))\n",
    "        #print(chunk)\n",
    "        #print('>>> synopsis: \\n' + synopsis_chunck[-1])\n",
    "\n",
    "    # Synopsis\n",
    "    synopsis = ' '.join(synopsis_chunck)\n",
    "\n",
    "    return synopsis"
   ]
  },
  {
   "attachments": {},
   "cell_type": "markdown",
   "metadata": {},
   "source": [
    "### Genre : Comedy"
   ]
  },
  {
   "attachments": {},
   "cell_type": "markdown",
   "metadata": {},
   "source": [
    "With no further information provided in the prompt, the response is rather formal and dry for the genre of comedy."
   ]
  },
  {
   "cell_type": "code",
   "execution_count": 7,
   "metadata": {},
   "outputs": [],
   "source": [
    "fname = \"../data/comedy-booking-online-transcript.txt\"\n",
    "\n",
    "with open(fname, 'r') as f:\n",
    "    content = f.readlines()\n",
    "\n",
    "# convert list to str\n",
    "content = ' '.join(content) "
   ]
  },
  {
   "cell_type": "code",
   "execution_count": 8,
   "metadata": {},
   "outputs": [
    {
     "name": "stdout",
     "output_type": "stream",
     "text": [
      "Michael McKintyre talks about his experience with booking tickets online. He finds the process of registering and confirming emails to be quite difficult, especially when he is bombarded by companies that want to have his email address for promotional purposes. He also discusses the challenges of selecting passwords, answering security questions and dealing with booking fees. Michael's humorous take on these issues provides a commentary on how frustrating it can be for people who are not tech-savvy or do not enjoy using technology.\n",
      "  \n",
      "\n"
     ]
    }
   ],
   "source": [
    "# Prompt postfix\n",
    "prompt_postfix = \"\"\" <document>\n",
    "  \\n###\n",
    "  \\nSummarise the transcript of a podcast above into a synopsis. \n",
    "  \\nSynopsis : \n",
    "\"\"\"\n",
    "\n",
    "synopsis = get_synopsis(content, prompt_postfix)\n",
    "print(synopsis)"
   ]
  },
  {
   "attachments": {},
   "cell_type": "markdown",
   "metadata": {},
   "source": [
    "Adding more information may help in achieving a more desirable results:\n",
    "- genre\n",
    "- desired style\n",
    "\n",
    "Be creative and explicit about the desired outcome when desiging the prompt. "
   ]
  },
  {
   "cell_type": "code",
   "execution_count": 9,
   "metadata": {},
   "outputs": [
    {
     "name": "stdout",
     "output_type": "stream",
     "text": [
      "Michael McKintyre is back with his latest stand-up comedy show and this time he's taking on the world of online booking. From passwords to security questions, Michael hilariously reflects on how we all struggle with the challenges that come with buying tickets or products online. With witty observations about our daily lives, Michael’s show will have you laughing out loud as he takes us through his own personal journey of trying to book a ticket for The Who concert.\n",
      "  \n",
      "\n"
     ]
    }
   ],
   "source": [
    "# Prompt postfix\n",
    "prompt_postfix = \"\"\" <document>\n",
    "  \\n###\n",
    "  \\nCreate a synopsis to capture audience curiosy and heighten anticipation. This is a stand-up comedy. \n",
    "  \\nSynopsis : \n",
    "\"\"\"\n",
    "synopsis = get_synopsis(content, prompt_postfix)\n",
    "print(synopsis)"
   ]
  },
  {
   "attachments": {},
   "cell_type": "markdown",
   "metadata": {},
   "source": [
    "### Genre : Informational"
   ]
  },
  {
   "cell_type": "code",
   "execution_count": 11,
   "metadata": {},
   "outputs": [],
   "source": [
    "fname = \"../data/ft-interview-transcription.txt\"\n",
    "\n",
    "with open(fname, 'r',errors='replace') as f:\n",
    "    content = f.readlines()\n",
    "\n",
    "# convert list to str\n",
    "content = ' '.join(content) "
   ]
  },
  {
   "cell_type": "code",
   "execution_count": 12,
   "metadata": {},
   "outputs": [
    {
     "name": "stdout",
     "output_type": "stream",
     "text": [
      "Silicon Valley Bank's collapse was caused by bad decisions and a rapid increase in interest rates. The bank had two weird features on its balance sheet; it was almost entirely funded by business depositors, who demand more interest when interest rates go up, and they bought Treasury bonds which have fixed interests. When the price of money went up but the assets' price did not, Silicon Valley Bank watched its profits disappear leading to depositors pulling their funds out and hence a run on the bank. However, this is not another 2008 financial crisis because SVB looks like an outlier with poor balance sheet management that other banks do not share to such a degree. Furthermore, unlike 2008 where there were all these terrible loans undercapitalised on housing that melted down causing credit event(s), there is no credit event per se here as we learned from last time around that even world's largest financial institutions were inadequately capitalised while this time around big banks are much better capitalised.\n",
      "<|im_end|> The Financial Times' Robert Armstrong explains how the collapse of US lender SVB has exposed a vulnerability in smaller banks that have been buying up securities with short-term funding. He also discusses what this means for banking regulation and what entrepreneurs should be asking their lenders. While it is unlikely to cause a global financial crisis, the incident will likely prompt regulators to revisit rules around maturity transformation and could inspire consolidation among smaller banks.\n",
      "  \n",
      "\n"
     ]
    }
   ],
   "source": [
    "# Prompt postfix\n",
    "prompt_postfix = \"\"\" <document>\n",
    "  \\n###\n",
    "  \\nGenerate a short synopsis from the transcription of an interview.  \n",
    "  \\nSynopsis : \n",
    "\"\"\"\n",
    "\n",
    "synopsis = get_synopsis(content, prompt_postfix)\n",
    "print(synopsis)"
   ]
  },
  {
   "cell_type": "code",
   "execution_count": 14,
   "metadata": {},
   "outputs": [
    {
     "name": "stdout",
     "output_type": "stream",
     "text": [
      "The collapse of Silicon Valley Bank has caused panic in the financial world, with many worried that this is the start of another 2008-style crisis. However, Robert Armstrong, US Financial Commentator for The FT argues that there are key differences between what happened then and what's happening now. In this episode of Behind the Money, he explains why we shouldn't be panicking about bank runs just yet... Let's find out!<|im_end|> The collapse of Silicon Valley Bank's high-yield bond fund has raised concerns about the broader US banking system. In this episode, Robert Armstrong explains how banks make money and why it is risky. He also provides insights into what entrepreneurs should be asking their banks in the future. The key takeaway from this interview is that bank failures cannot be vanished entirely by regulation; there will always be risks associated with investing in them. So, where does this leave us? Let's find out!\n",
      " \n",
      "<|im_end|>\n"
     ]
    }
   ],
   "source": [
    "# Prompt postfix\n",
    "prompt_postfix = \"\"\" <document>\n",
    "  \\n###\n",
    "  \\nGenerate a short synopsis from the transcription of an interview, such that it trigger curiosity, include a thought provoking question. Add \"Let's find out!\" at the end.  \n",
    "  \\nSynopsis : \n",
    "\"\"\"\n",
    "\n",
    "synopsis = get_synopsis(content, prompt_postfix)\n",
    "print(synopsis)"
   ]
  }
 ],
 "metadata": {
  "kernelspec": {
   "display_name": "azureml_py38",
   "language": "python",
   "name": "python3"
  },
  "language_info": {
   "codemirror_mode": {
    "name": "ipython",
    "version": 3
   },
   "file_extension": ".py",
   "mimetype": "text/x-python",
   "name": "python",
   "nbconvert_exporter": "python",
   "pygments_lexer": "ipython3",
   "version": "3.11.3"
  },
  "orig_nbformat": 4,
  "vscode": {
   "interpreter": {
    "hash": "6d65a8c07f5b6469e0fc613f182488c0dccce05038bbda39e5ac9075c0454d11"
   }
  }
 },
 "nbformat": 4,
 "nbformat_minor": 2
}
