{
 "cells": [
  {
   "cell_type": "markdown",
   "metadata": {},
   "source": [
    "# Azure OpenAI Service - Q&A with semantic answering Quickstart app\n",
    "\n",
    "This notebook helps you to build a simple Q&A demo application by doing the following steps\n",
    "\n",
    "1. Data preparation - you will need to adapt this code to have it work with your data\n",
    "1. Embedding creation - this will mostly work out of the box\n",
    "1. Prompt creation - this will mostly work out of the box, but you could adapt this a little bit\n",
    "1. App creation - this will mostly work out of the box, but you can make changes if needed\n",
    "\n",
    "Firstly, create a file called `.env` in this folder, and add the following content, obviously with your values:\n",
    "\n",
    "```\n",
    "OPENAI_API_KEY=xxxxxx\n",
    "OPENAI_API_BASE=https://xxxxxxx.openai.azure.com/\n",
    "```\n",
    "\n",
    "Then, let's install all dependencies:"
   ]
  },
  {
   "cell_type": "code",
   "execution_count": 1,
   "metadata": {},
   "outputs": [
    {
     "name": "stdout",
     "output_type": "stream",
     "text": [
      "Defaulting to user installation because normal site-packages is not writeable\n",
      "Requirement already satisfied: streamlit==1.18.1 in c:\\users\\mandugunduvenkateswa\\appdata\\roaming\\python\\python311\\site-packages (from -r requirements.txt (line 1)) (1.18.1)\n",
      "Collecting openai==0.26.5 (from -r requirements.txt (line 2))\n",
      "  Using cached openai-0.26.5-py3-none-any.whl\n",
      "Requirement already satisfied: python-dotenv==0.21.0 in c:\\users\\mandugunduvenkateswa\\appdata\\roaming\\python\\python311\\site-packages (from -r requirements.txt (line 3)) (0.21.0)\n",
      "Requirement already satisfied: numpy in c:\\users\\mandugunduvenkateswa\\appdata\\roaming\\python\\python311\\site-packages (from -r requirements.txt (line 4)) (1.25.2)\n",
      "Requirement already satisfied: pandas in c:\\program files\\python311\\lib\\site-packages (from -r requirements.txt (line 5)) (2.0.0)\n",
      "Requirement already satisfied: matplotlib==3.6.3 in c:\\users\\mandugunduvenkateswa\\appdata\\roaming\\python\\python311\\site-packages (from -r requirements.txt (line 6)) (3.6.3)\n",
      "Requirement already satisfied: plotly==5.12.0 in c:\\users\\mandugunduvenkateswa\\appdata\\roaming\\python\\python311\\site-packages (from -r requirements.txt (line 7)) (5.12.0)\n",
      "Requirement already satisfied: scipy==1.10.0 in c:\\users\\mandugunduvenkateswa\\appdata\\roaming\\python\\python311\\site-packages (from -r requirements.txt (line 8)) (1.10.0)\n",
      "Requirement already satisfied: scikit-learn==1.2.0 in c:\\users\\mandugunduvenkateswa\\appdata\\roaming\\python\\python311\\site-packages (from -r requirements.txt (line 9)) (1.2.0)\n",
      "Requirement already satisfied: tenacity in c:\\program files\\python311\\lib\\site-packages (from -r requirements.txt (line 10)) (8.2.2)\n",
      "Requirement already satisfied: tiktoken==0.3.0 in c:\\users\\mandugunduvenkateswa\\appdata\\roaming\\python\\python311\\site-packages (from -r requirements.txt (line 11)) (0.3.0)\n",
      "Requirement already satisfied: altair>=3.2.0 in c:\\users\\mandugunduvenkateswa\\appdata\\roaming\\python\\python311\\site-packages (from streamlit==1.18.1->-r requirements.txt (line 1)) (5.0.0)\n",
      "Requirement already satisfied: blinker>=1.0.0 in c:\\users\\mandugunduvenkateswa\\appdata\\roaming\\python\\python311\\site-packages (from streamlit==1.18.1->-r requirements.txt (line 1)) (1.6.2)\n",
      "Requirement already satisfied: cachetools>=4.0 in c:\\users\\mandugunduvenkateswa\\appdata\\roaming\\python\\python311\\site-packages (from streamlit==1.18.1->-r requirements.txt (line 1)) (5.3.0)\n",
      "Requirement already satisfied: click>=7.0 in c:\\program files\\python311\\lib\\site-packages (from streamlit==1.18.1->-r requirements.txt (line 1)) (8.1.3)\n",
      "Requirement already satisfied: importlib-metadata>=1.4 in c:\\users\\mandugunduvenkateswa\\appdata\\roaming\\python\\python311\\site-packages (from streamlit==1.18.1->-r requirements.txt (line 1)) (6.6.0)\n",
      "Requirement already satisfied: packaging>=14.1 in c:\\program files\\python311\\lib\\site-packages (from streamlit==1.18.1->-r requirements.txt (line 1)) (23.0)\n",
      "Requirement already satisfied: pillow>=6.2.0 in c:\\program files\\python311\\lib\\site-packages (from streamlit==1.18.1->-r requirements.txt (line 1)) (9.5.0)\n",
      "Requirement already satisfied: protobuf<4,>=3.12 in c:\\users\\mandugunduvenkateswa\\appdata\\roaming\\python\\python311\\site-packages (from streamlit==1.18.1->-r requirements.txt (line 1)) (3.20.3)\n",
      "Requirement already satisfied: pyarrow>=4.0 in c:\\users\\mandugunduvenkateswa\\appdata\\roaming\\python\\python311\\site-packages (from streamlit==1.18.1->-r requirements.txt (line 1)) (11.0.0)\n",
      "Requirement already satisfied: pympler>=0.9 in c:\\users\\mandugunduvenkateswa\\appdata\\roaming\\python\\python311\\site-packages (from streamlit==1.18.1->-r requirements.txt (line 1)) (1.0.1)\n",
      "Requirement already satisfied: python-dateutil in c:\\program files\\python311\\lib\\site-packages (from streamlit==1.18.1->-r requirements.txt (line 1)) (2.8.2)\n",
      "Requirement already satisfied: requests>=2.4 in c:\\program files\\python311\\lib\\site-packages (from streamlit==1.18.1->-r requirements.txt (line 1)) (2.28.2)\n",
      "Requirement already satisfied: rich>=10.11.0 in c:\\users\\mandugunduvenkateswa\\appdata\\roaming\\python\\python311\\site-packages (from streamlit==1.18.1->-r requirements.txt (line 1)) (13.3.5)\n",
      "Requirement already satisfied: semver in c:\\users\\mandugunduvenkateswa\\appdata\\roaming\\python\\python311\\site-packages (from streamlit==1.18.1->-r requirements.txt (line 1)) (3.0.0)\n",
      "Requirement already satisfied: toml in c:\\users\\mandugunduvenkateswa\\appdata\\roaming\\python\\python311\\site-packages (from streamlit==1.18.1->-r requirements.txt (line 1)) (0.10.2)\n",
      "Requirement already satisfied: typing-extensions>=3.10.0.0 in c:\\program files\\python311\\lib\\site-packages (from streamlit==1.18.1->-r requirements.txt (line 1)) (4.5.0)\n",
      "Requirement already satisfied: tzlocal>=1.1 in c:\\users\\mandugunduvenkateswa\\appdata\\roaming\\python\\python311\\site-packages (from streamlit==1.18.1->-r requirements.txt (line 1)) (4.3)\n",
      "Requirement already satisfied: validators>=0.2 in c:\\users\\mandugunduvenkateswa\\appdata\\roaming\\python\\python311\\site-packages (from streamlit==1.18.1->-r requirements.txt (line 1)) (0.20.0)\n",
      "Requirement already satisfied: gitpython!=3.1.19 in c:\\program files\\python311\\lib\\site-packages (from streamlit==1.18.1->-r requirements.txt (line 1)) (3.1.31)\n",
      "Requirement already satisfied: pydeck>=0.1.dev5 in c:\\users\\mandugunduvenkateswa\\appdata\\roaming\\python\\python311\\site-packages (from streamlit==1.18.1->-r requirements.txt (line 1)) (0.8.1b0)\n",
      "Requirement already satisfied: tornado>=6.0.3 in c:\\program files\\python311\\lib\\site-packages (from streamlit==1.18.1->-r requirements.txt (line 1)) (6.2)\n",
      "Requirement already satisfied: watchdog in c:\\users\\mandugunduvenkateswa\\appdata\\roaming\\python\\python311\\site-packages (from streamlit==1.18.1->-r requirements.txt (line 1)) (3.0.0)\n",
      "Requirement already satisfied: tqdm in c:\\program files\\python311\\lib\\site-packages (from openai==0.26.5->-r requirements.txt (line 2)) (4.65.0)\n",
      "Requirement already satisfied: aiohttp in c:\\program files\\python311\\lib\\site-packages (from openai==0.26.5->-r requirements.txt (line 2)) (3.8.4)\n",
      "Requirement already satisfied: contourpy>=1.0.1 in c:\\program files\\python311\\lib\\site-packages (from matplotlib==3.6.3->-r requirements.txt (line 6)) (1.0.7)\n",
      "Requirement already satisfied: cycler>=0.10 in c:\\program files\\python311\\lib\\site-packages (from matplotlib==3.6.3->-r requirements.txt (line 6)) (0.11.0)\n",
      "Requirement already satisfied: fonttools>=4.22.0 in c:\\program files\\python311\\lib\\site-packages (from matplotlib==3.6.3->-r requirements.txt (line 6)) (4.39.3)\n",
      "Requirement already satisfied: kiwisolver>=1.0.1 in c:\\program files\\python311\\lib\\site-packages (from matplotlib==3.6.3->-r requirements.txt (line 6)) (1.4.4)\n",
      "Requirement already satisfied: pyparsing>=2.2.1 in c:\\program files\\python311\\lib\\site-packages (from matplotlib==3.6.3->-r requirements.txt (line 6)) (3.0.9)\n",
      "Requirement already satisfied: joblib>=1.1.1 in c:\\program files\\python311\\lib\\site-packages (from scikit-learn==1.2.0->-r requirements.txt (line 9)) (1.2.0)\n",
      "Requirement already satisfied: threadpoolctl>=2.0.0 in c:\\program files\\python311\\lib\\site-packages (from scikit-learn==1.2.0->-r requirements.txt (line 9)) (3.1.0)\n",
      "Requirement already satisfied: blobfile>=2 in c:\\users\\mandugunduvenkateswa\\appdata\\roaming\\python\\python311\\site-packages (from tiktoken==0.3.0->-r requirements.txt (line 11)) (2.0.2)\n",
      "Requirement already satisfied: regex>=2022.1.18 in c:\\program files\\python311\\lib\\site-packages (from tiktoken==0.3.0->-r requirements.txt (line 11)) (2023.3.23)\n",
      "Requirement already satisfied: pytz>=2020.1 in c:\\program files\\python311\\lib\\site-packages (from pandas->-r requirements.txt (line 5)) (2023.3)\n",
      "Requirement already satisfied: tzdata>=2022.1 in c:\\program files\\python311\\lib\\site-packages (from pandas->-r requirements.txt (line 5)) (2023.3)\n",
      "Requirement already satisfied: jinja2 in c:\\program files\\python311\\lib\\site-packages (from altair>=3.2.0->streamlit==1.18.1->-r requirements.txt (line 1)) (3.1.2)\n",
      "Requirement already satisfied: jsonschema>=3.0 in c:\\program files\\python311\\lib\\site-packages (from altair>=3.2.0->streamlit==1.18.1->-r requirements.txt (line 1)) (4.17.3)\n",
      "Requirement already satisfied: toolz in c:\\users\\mandugunduvenkateswa\\appdata\\roaming\\python\\python311\\site-packages (from altair>=3.2.0->streamlit==1.18.1->-r requirements.txt (line 1)) (0.12.0)\n",
      "Requirement already satisfied: pycryptodomex~=3.8 in c:\\users\\mandugunduvenkateswa\\appdata\\roaming\\python\\python311\\site-packages (from blobfile>=2->tiktoken==0.3.0->-r requirements.txt (line 11)) (3.17)\n",
      "Requirement already satisfied: urllib3<3,>=1.25.3 in c:\\program files\\python311\\lib\\site-packages (from blobfile>=2->tiktoken==0.3.0->-r requirements.txt (line 11)) (1.26.15)\n",
      "Requirement already satisfied: lxml~=4.9 in c:\\users\\mandugunduvenkateswa\\appdata\\roaming\\python\\python311\\site-packages (from blobfile>=2->tiktoken==0.3.0->-r requirements.txt (line 11)) (4.9.2)\n",
      "Requirement already satisfied: filelock~=3.0 in c:\\program files\\python311\\lib\\site-packages (from blobfile>=2->tiktoken==0.3.0->-r requirements.txt (line 11)) (3.10.7)\n",
      "Requirement already satisfied: colorama in c:\\program files\\python311\\lib\\site-packages (from click>=7.0->streamlit==1.18.1->-r requirements.txt (line 1)) (0.4.6)\n",
      "Requirement already satisfied: gitdb<5,>=4.0.1 in c:\\program files\\python311\\lib\\site-packages (from gitpython!=3.1.19->streamlit==1.18.1->-r requirements.txt (line 1)) (4.0.10)\n",
      "Requirement already satisfied: zipp>=0.5 in c:\\users\\mandugunduvenkateswa\\appdata\\roaming\\python\\python311\\site-packages (from importlib-metadata>=1.4->streamlit==1.18.1->-r requirements.txt (line 1)) (3.15.0)\n",
      "Requirement already satisfied: six>=1.5 in c:\\program files\\python311\\lib\\site-packages (from python-dateutil->streamlit==1.18.1->-r requirements.txt (line 1)) (1.16.0)\n",
      "Requirement already satisfied: charset-normalizer<4,>=2 in c:\\program files\\python311\\lib\\site-packages (from requests>=2.4->streamlit==1.18.1->-r requirements.txt (line 1)) (3.1.0)\n",
      "Requirement already satisfied: idna<4,>=2.5 in c:\\program files\\python311\\lib\\site-packages (from requests>=2.4->streamlit==1.18.1->-r requirements.txt (line 1)) (3.4)\n",
      "Requirement already satisfied: certifi>=2017.4.17 in c:\\program files\\python311\\lib\\site-packages (from requests>=2.4->streamlit==1.18.1->-r requirements.txt (line 1)) (2022.12.7)\n",
      "Requirement already satisfied: markdown-it-py<3.0.0,>=2.2.0 in c:\\users\\mandugunduvenkateswa\\appdata\\roaming\\python\\python311\\site-packages (from rich>=10.11.0->streamlit==1.18.1->-r requirements.txt (line 1)) (2.2.0)\n",
      "Requirement already satisfied: pygments<3.0.0,>=2.13.0 in c:\\program files\\python311\\lib\\site-packages (from rich>=10.11.0->streamlit==1.18.1->-r requirements.txt (line 1)) (2.14.0)\n",
      "Requirement already satisfied: pytz-deprecation-shim in c:\\users\\mandugunduvenkateswa\\appdata\\roaming\\python\\python311\\site-packages (from tzlocal>=1.1->streamlit==1.18.1->-r requirements.txt (line 1)) (0.1.0.post0)\n",
      "Requirement already satisfied: decorator>=3.4.0 in c:\\program files\\python311\\lib\\site-packages (from validators>=0.2->streamlit==1.18.1->-r requirements.txt (line 1)) (5.1.1)\n",
      "Requirement already satisfied: attrs>=17.3.0 in c:\\program files\\python311\\lib\\site-packages (from aiohttp->openai==0.26.5->-r requirements.txt (line 2)) (22.2.0)\n",
      "Requirement already satisfied: multidict<7.0,>=4.5 in c:\\program files\\python311\\lib\\site-packages (from aiohttp->openai==0.26.5->-r requirements.txt (line 2)) (6.0.4)\n",
      "Requirement already satisfied: async-timeout<5.0,>=4.0.0a3 in c:\\program files\\python311\\lib\\site-packages (from aiohttp->openai==0.26.5->-r requirements.txt (line 2)) (4.0.2)\n",
      "Requirement already satisfied: yarl<2.0,>=1.0 in c:\\program files\\python311\\lib\\site-packages (from aiohttp->openai==0.26.5->-r requirements.txt (line 2)) (1.8.2)\n",
      "Requirement already satisfied: frozenlist>=1.1.1 in c:\\program files\\python311\\lib\\site-packages (from aiohttp->openai==0.26.5->-r requirements.txt (line 2)) (1.3.3)\n",
      "Requirement already satisfied: aiosignal>=1.1.2 in c:\\program files\\python311\\lib\\site-packages (from aiohttp->openai==0.26.5->-r requirements.txt (line 2)) (1.3.1)\n",
      "Requirement already satisfied: smmap<6,>=3.0.1 in c:\\program files\\python311\\lib\\site-packages (from gitdb<5,>=4.0.1->gitpython!=3.1.19->streamlit==1.18.1->-r requirements.txt (line 1)) (5.0.0)\n",
      "Requirement already satisfied: MarkupSafe>=2.0 in c:\\program files\\python311\\lib\\site-packages (from jinja2->altair>=3.2.0->streamlit==1.18.1->-r requirements.txt (line 1)) (2.1.2)\n",
      "Requirement already satisfied: pyrsistent!=0.17.0,!=0.17.1,!=0.17.2,>=0.14.0 in c:\\program files\\python311\\lib\\site-packages (from jsonschema>=3.0->altair>=3.2.0->streamlit==1.18.1->-r requirements.txt (line 1)) (0.19.3)\n",
      "Requirement already satisfied: mdurl~=0.1 in c:\\users\\mandugunduvenkateswa\\appdata\\roaming\\python\\python311\\site-packages (from markdown-it-py<3.0.0,>=2.2.0->rich>=10.11.0->streamlit==1.18.1->-r requirements.txt (line 1)) (0.1.2)\n",
      "Installing collected packages: openai\n",
      "Successfully installed openai-0.26.5\n"
     ]
    }
   ],
   "source": [
    "!pip install -r requirements.txt"
   ]
  },
  {
   "cell_type": "code",
   "execution_count": 1,
   "metadata": {},
   "outputs": [],
   "source": [
    "import os\n",
    "import json\n",
    "import tiktoken\n",
    "import openai\n",
    "import numpy as np\n",
    "import pickle\n",
    "from dotenv import load_dotenv\n",
    "from openai.embeddings_utils import cosine_similarity\n",
    "from tenacity import retry, wait_random_exponential, stop_after_attempt\n",
    "\n",
    "# Load environment variables\n",
    "load_dotenv()\n",
    "\n",
    "# Configure Azure OpenAI Service API\n",
    "openai.api_type = \"azure\"\n",
    "openai.api_version = \"2023-05-15\"\n",
    "openai.api_base = os.getenv('OPENAI_API_BASE')\n",
    "openai.api_key = os.getenv(\"OPENAI_API_KEY\")\n",
    "\n",
    "# Define embedding model and encoding\n",
    "EMBEDDING_MODEL = 'text-embedding-ada-002'\n",
    "EMBEDDING_ENCODING = 'cl100k_base'\n",
    "EMBEDDING_CHUNK_SIZE = 8000\n",
    "COMPLETION_MODEL = 'gpt-35-turbo'\n",
    "\n",
    "# initialize tiktoken for encoding text\n",
    "encoding = tiktoken.get_encoding(EMBEDDING_ENCODING)"
   ]
  },
  {
   "attachments": {},
   "cell_type": "markdown",
   "metadata": {},
   "source": [
    "## Data preparation\n",
    "\n",
    "Adapt this code to read in our data, the output should be an Python array with dicts inside, containing the keys filename, text"
   ]
  },
  {
   "cell_type": "code",
   "execution_count": 2,
   "metadata": {},
   "outputs": [
    {
     "name": "stdout",
     "output_type": "stream",
     "text": [
      "Loaded 3 documents\n",
      "Filename: overview_clu.txt Content: \n",
      "# What is conversational language understanding?\n",
      "\n",
      "Conversational language under... \n",
      "---> Tokens: 1344\n",
      "\n",
      "Filename: overview_openai.txt Content: \n",
      "# What is Azure OpenAI?\n",
      "\n",
      "The Azure OpenAI service provides REST API access to O... \n",
      "---> Tokens: 1912\n",
      "\n",
      "Filename: overview_translator.txt Content: \n",
      "# What is Azure Cognitive Services Translator?\n",
      "\n",
      "Translator Service is a cloud-b... \n",
      "---> Tokens: 745\n",
      "\n"
     ]
    }
   ],
   "source": [
    "# list all files in the data\n",
    "data_dir = os.path.join(os.getcwd(), \"../data/qna/\")\n",
    "files = os.listdir(data_dir)\n",
    "\n",
    "# read content from each file and append it to documents\n",
    "documents = []\n",
    "for file in files:\n",
    "    with open(os.path.join(data_dir, file), \"r\",encoding='utf-8') as f:\n",
    "        # read the content from the txt file\n",
    "        content = f.read()\n",
    "        documents.append({\n",
    "            \"filename\": file,\n",
    "            \"content\": content,\n",
    "        })\n",
    "\n",
    "# print some stats about the documents\n",
    "print(f\"Loaded {len(documents)} documents\")\n",
    "for doc in documents:\n",
    "    num_tokens = len(encoding.encode(doc['content']))\n",
    "    print(f\"Filename: {doc['filename']} Content: {doc['content'][:80]}... \\n---> Tokens: {num_tokens}\\n\")"
   ]
  },
  {
   "attachments": {},
   "cell_type": "markdown",
   "metadata": {},
   "source": [
    "Let's create the function to embed a single document:"
   ]
  },
  {
   "cell_type": "code",
   "execution_count": 3,
   "metadata": {},
   "outputs": [],
   "source": [
    "@retry(wait=wait_random_exponential(min=1, max=20), stop=stop_after_attempt(6))\n",
    "def get_embedding(text):\n",
    "    # remove newlines and double spaces\n",
    "    text = text.replace(\"\\n\", \" \").replace(\"  \", \" \")\n",
    "    return openai.Embedding.create(input=text, engine=EMBEDDING_MODEL)[\"data\"][0][\"embedding\"]"
   ]
  },
  {
   "cell_type": "code",
   "execution_count": 4,
   "metadata": {},
   "outputs": [
    {
     "name": "stdout",
     "output_type": "stream",
     "text": [
      "Created embedding for overview_clu.txt\n",
      "Created embedding for overview_openai.txt\n",
      "Created embedding for overview_translator.txt\n"
     ]
    }
   ],
   "source": [
    "# Create embeddings for all docs\n",
    "for doc in documents:\n",
    "    doc['embedding'] = get_embedding(doc['content'])\n",
    "    print(f\"Created embedding for {doc['filename']}\")\n",
    "    \n",
    "# Save documents to disk\n",
    "pickle.dump(documents, open(\"documents.pkl\", \"wb\"))"
   ]
  },
  {
   "attachments": {},
   "cell_type": "markdown",
   "metadata": {},
   "source": [
    "Now let's write our app template, feel free to change the title, etc.:"
   ]
  },
  {
   "cell_type": "code",
   "execution_count": 5,
   "metadata": {},
   "outputs": [
    {
     "name": "stdout",
     "output_type": "stream",
     "text": [
      "Writing ./app.py\n"
     ]
    }
   ],
   "source": [
    "%%writefile ./app.py\n",
    "\n",
    "import os\n",
    "import openai\n",
    "import streamlit as st\n",
    "import tiktoken\n",
    "import numpy as np\n",
    "import pickle\n",
    "from openai.embeddings_utils import cosine_similarity\n",
    "from dotenv import load_dotenv\n",
    "from tenacity import retry, wait_random_exponential, stop_after_attempt\n",
    "\n",
    "# Load environment variables\n",
    "load_dotenv()\n",
    "\n",
    "# Configure Azure OpenAI Service API\n",
    "openai.api_type = \"azure\"\n",
    "openai.api_version = \"2023-05-15\"\n",
    "openai.api_base = os.getenv('OPENAI_API_BASE')\n",
    "openai.api_key = os.getenv(\"OPENAI_API_KEY\")\n",
    "\n",
    "COMPLETION_MODEL = 'gpt-35-turbo'\n",
    "EMBEDDING_MODEL = 'text-embedding-ada-002'\n",
    "\n",
    "documents = pickle.load(open(\"documents.pkl\", \"rb\"))\n",
    "\n",
    "@retry(wait=wait_random_exponential(min=1, max=20), stop=stop_after_attempt(6))\n",
    "def get_embedding(text):\n",
    "    # remove newlines and double spaces\n",
    "    text = text.replace(\"\\n\", \" \").replace(\"  \", \" \")\n",
    "    return openai.Embedding.create(input=text, engine=EMBEDDING_MODEL)[\"data\"][0][\"embedding\"]\n",
    "\n",
    "@retry(wait=wait_random_exponential(min=1, max=20), stop=stop_after_attempt(10))\n",
    "def run_prompt(prompt, max_tokens=1000):\n",
    "    response = openai.Completion.create(\n",
    "        engine=COMPLETION_MODEL,\n",
    "        prompt=prompt,\n",
    "        temperature=0.7,\n",
    "        max_tokens=max_tokens\n",
    "    )\n",
    "    return response['choices'][0]['text']\n",
    "\n",
    "# configure UI elements with Streamlit\n",
    "\n",
    "st.title('Demo app')\n",
    "question = st.text_input('Question')\n",
    "answer_button = st.button('Generate answer')\n",
    "\n",
    "if answer_button:\n",
    "    # first extract the actual search query from the question\n",
    "    question_prompt = f\"\"\"You extract search queries from prompts and remove all styling options or other things (e.g., the formatting the user asks for). You do not answer the question.\n",
    "Prompt: {question}\\n\n",
    "Query:\"\"\"\n",
    "    search_query = run_prompt(question_prompt, max_tokens=100)\n",
    "    \n",
    "    # then get the embedding and compare it to all documents\n",
    "    qe = get_embedding(search_query)\n",
    "    similarities = [cosine_similarity(qe, doc['embedding']) for doc in documents]\n",
    "    max_i = np.argmax(similarities)\n",
    "\n",
    "    st.write(f\"**Searching for:** {search_query}\\n\\n**Found answer in:** {documents[max_i]['filename']}\")\n",
    "\n",
    "    # finally generate the answer\n",
    "    prompt = f\"\"\"\n",
    "    Content:\n",
    "    {documents[max_i]['content']}\n",
    "    Please answer the question below using only the content from above. If you don't know the answer or can't find it, say \"I couldn't find the answer\".\n",
    "    Question: {question}\n",
    "    Answer:\"\"\"\n",
    "    answer = run_prompt(prompt)\n",
    "\n",
    "    st.write(f\"**Answer**:\\n\\n{answer}\")"
   ]
  },
  {
   "attachments": {},
   "cell_type": "markdown",
   "metadata": {},
   "source": [
    "Lastly, run the app:\n",
    "\n",
    "```\n",
    "streamlit run app.py\n",
    "```"
   ]
  }
 ],
 "metadata": {
  "kernelspec": {
   "display_name": "openai-qna-env",
   "language": "python",
   "name": "python3"
  },
  "language_info": {
   "codemirror_mode": {
    "name": "ipython",
    "version": 3
   },
   "file_extension": ".py",
   "mimetype": "text/x-python",
   "name": "python",
   "nbconvert_exporter": "python",
   "pygments_lexer": "ipython3",
   "version": "3.11.4"
  },
  "orig_nbformat": 4,
  "vscode": {
   "interpreter": {
    "hash": "c4ee1bbf3137c7ea9420c4fd488a55642063e5739fe2a7286130d9ba47405b69"
   }
  }
 },
 "nbformat": 4,
 "nbformat_minor": 2
}
