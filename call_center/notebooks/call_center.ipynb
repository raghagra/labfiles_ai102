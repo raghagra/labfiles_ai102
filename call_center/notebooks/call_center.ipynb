{
 "cells": [
  {
   "attachments": {},
   "cell_type": "markdown",
   "metadata": {},
   "source": [
    "# Call center case - Post-call transcription and analysis with Azure OpenAI Service\n",
    "\n",
    "In this exercise, we will perform sentiment analysis and summerization using call center transcriptions. We will transribe the customer recording to text, then use OpenAI to detect sentiment. We also use OpenAI to summerize long text into a few sentences for further analysis."
   ]
  },
  {
   "cell_type": "code",
   "execution_count": 15,
   "metadata": {},
   "outputs": [
    {
     "data": {
      "text/plain": [
       "True"
      ]
     },
     "execution_count": 15,
     "metadata": {},
     "output_type": "execute_result"
    }
   ],
   "source": [
    "from dotenv import load_dotenv\n",
    "from pathlib import Path\n",
    "env_path = Path('C:\\Labfiles\\call_center\\.env') # Change with your .env file\n",
    "load_dotenv(dotenv_path=env_path,override=True)"
   ]
  },
  {
   "cell_type": "code",
   "execution_count": 10,
   "metadata": {},
   "outputs": [],
   "source": [
    "# from azure.ai.textanalytics import TextAnalyticsClient\n",
    "# from azure.core.credentials import AzureKeyCredential\n",
    "import azure.cognitiveservices.speech as speechsdk\n",
    "\n",
    "import json, os\n",
    "import string\n",
    "import time\n",
    "import wave\n",
    "\n",
    "import openai\n",
    "import re\n",
    "import requests\n",
    "import sys\n",
    "from num2words import num2words\n",
    "import os\n",
    "import pandas as pd\n",
    "import numpy as np\n",
    "from openai.embeddings_utils import get_embedding, cosine_similarity\n",
    "from transformers import GPT2TokenizerFast\n",
    "\n",
    "openai.api_type = \"azure\"\n",
    "openai.api_key = os.getenv('OPENAI_API_KEY') \n",
    "openai.api_base = os.getenv('OPENAI_API_BASE') \n",
    "openai.api_version = \"2023-05-15\"\n",
    "\n",
    "SPEECH_KEY = os.environ[\"SPEECH_API_KEY\"]\n",
    "\n",
    "COMPLETIONS_MODEL = os.environ[\"COMPLETIONS_MODEL\"]\n",
    "\n",
    "def recognize_speech_from_file(filename):\n",
    "    # Set up the subscription info for the Speech Service:\n",
    "    # Replace with your own subscription key and service region (e.g., \"westus\").\n",
    "    speech_key = SPEECH_KEY\n",
    "    service_region = \"eastus\"\n",
    "\n",
    "    speech_config = speechsdk.SpeechConfig(subscription=speech_key, region=service_region)\n",
    "    audio_config = speechsdk.audio.AudioConfig(filename=filename)\n",
    "    # Creates a speech recognizer using a file as audio input, also specify the speech language\n",
    "    speech_recognizer = speechsdk.SpeechRecognizer(speech_config=speech_config,  audio_config=audio_config)\n",
    "\n",
    "    global done \n",
    "    done = False\n",
    "    global recognized_text_list \n",
    "    recognized_text_list=[]\n",
    "    def stop_cb(evt: speechsdk.SessionEventArgs):\n",
    "        \"\"\"callback that signals to stop continuous recognition upon receiving an event `evt`\"\"\"\n",
    "        print('CLOSING on {}'.format(evt))\n",
    "        global done\n",
    "        done = True\n",
    "\n",
    "    def recognize_cb(evt: speechsdk.SpeechRecognitionEventArgs):\n",
    "        \"\"\"callback for recognizing the recognized text\"\"\"\n",
    "        global recognized_text_list\n",
    "        recognized_text_list.append(evt.result.text)\n",
    "        # print('RECOGNIZED: {}'.format(evt.result.text))\n",
    "\n",
    "    # Connect callbacks to the events fired by the speech recognizer\n",
    "    # speech_recognizer.recognizing.connect(lambda evt: print('RECOGNIZING: {}'.format(evt)))\n",
    "    speech_recognizer.recognized.connect(recognize_cb)\n",
    "    speech_recognizer.session_started.connect(lambda evt: print('STT SESSION STARTED: {}'.format(evt)))\n",
    "    speech_recognizer.session_stopped.connect(lambda evt: print('STT SESSION STOPPED {}'.format(evt)))\n",
    "    # speech_recognizer.canceled.connect(lambda evt: print('CANCELED {}'.format(evt)))\n",
    "    # stop continuous recognition on either session stopped or canceled events\n",
    "    speech_recognizer.session_stopped.connect(stop_cb)\n",
    "    # speech_recognizer.canceled.connect(stop_cb)\n",
    "\n",
    "    # Start continuous speech recognition\n",
    "    speech_recognizer.start_continuous_recognition()\n",
    "    while not done:\n",
    "        time.sleep(.5)\n",
    "\n",
    "    speech_recognizer.stop_continuous_recognition()\n",
    "\n",
    "    return recognized_text_list"
   ]
  },
  {
   "attachments": {},
   "cell_type": "markdown",
   "metadata": {},
   "source": [
    "# Sentiment Analysis\n",
    "### Transcribe Customer Call to Text"
   ]
  },
  {
   "cell_type": "code",
   "execution_count": 11,
   "metadata": {},
   "outputs": [
    {
     "name": "stdout",
     "output_type": "stream",
     "text": [
      "STT SESSION STARTED: SessionEventArgs(session_id=ea5f9ba54b9246c8893dcbeb0c9d305e)\n",
      "STT SESSION STOPPED SessionEventArgs(session_id=ea5f9ba54b9246c8893dcbeb0c9d305e)\n",
      "CLOSING on SessionEventArgs(session_id=ea5f9ba54b9246c8893dcbeb0c9d305e)\n",
      "['I had purchased another thermostat from a big box store and the Rep there assured me that it would turn off when it got too cold.', 'Well, come to find out, it did not and my heater in the garage was running a lot of the time.', 'This one was great and was easily wired.', 'It does turn off when you turn it all the way to the left.', \"It's annoying they don't have any in Celsius, but whatever.\", 'It runs well and actually turns off my garage heater.', 'Would totally purchase again.', 'Installed with five kilowatts heater in garage.', 'Thermostat failed an on position overnight and came close to fire with overheated connections. See photos.', 'Installation was by certified electrician.']\n"
     ]
    }
   ],
   "source": [
    "text = recognize_speech_from_file(\"../data/good_review.wav\")\n",
    "print(text)"
   ]
  },
  {
   "attachments": {},
   "cell_type": "markdown",
   "metadata": {},
   "source": [
    "### Create Promot for sentiment analysis\n",
    "Use natural language to instruct OpenAI to detect customer's sentiment"
   ]
  },
  {
   "cell_type": "code",
   "execution_count": 12,
   "metadata": {},
   "outputs": [
    {
     "data": {
      "text/plain": [
       "'Thermostat was only in use for two weeks. I would not recommend this product. I have a 240v 30amp garage heater. I installed this thermostat and it worked great for about 2 weeks. Then it failed in the on position and the heater ran all night. The connections overheated and melted the plastic housing. I was lucky that it did not start a fire. I have attached photos of the damage. I would not recommend this product. I have a 240v 30amp garage heater. I installed this thermostat and it worked great for about 2 weeks. Then it failed in the on position and the heater ran all night. The connections overheated and melted the plastic housing. I was lucky that it did not start a fire. I have attached photos of the damage. I would not recommend this product. I have a 240v 30amp garage heater. I installed this thermostat and it worked great for about 2 weeks. Then it failed in the on position and the heater ran all night. The connections overheated and melted the plastic housing. I was lucky that it did not start a fire. I have attached photos of the damage. I would not recommend this product. I have a 240v 30amp garage heater. I installed this thermostat and it worked great for about 2 weeks. Then it failed in the on position and the heater ran all night. The connections overheated and melted the plastic housing. I was lucky that it'"
      ]
     },
     "execution_count": 12,
     "metadata": {},
     "output_type": "execute_result"
    }
   ],
   "source": [
    "prompt = f\"Detect whether customer is positive or negative.  Just say positive or negative.\\n\\n{' '.join(text)}\"\n",
    "\n",
    "openai.Completion.create(\n",
    "    prompt=prompt,\n",
    "    temperature=0,\n",
    "    max_tokens=300,\n",
    "    engine=COMPLETIONS_MODEL\n",
    ")[\"choices\"][0][\"text\"].strip(\" \\n\")"
   ]
  },
  {
   "attachments": {},
   "cell_type": "markdown",
   "metadata": {},
   "source": [
    "### Use a negative example"
   ]
  },
  {
   "cell_type": "code",
   "execution_count": 13,
   "metadata": {},
   "outputs": [
    {
     "name": "stdout",
     "output_type": "stream",
     "text": [
      "STT SESSION STARTED: SessionEventArgs(session_id=b93dd9732b554e57a02af3b05e6ceda7)\n",
      "STT SESSION STOPPED SessionEventArgs(session_id=b93dd9732b554e57a02af3b05e6ceda7)\n",
      "CLOSING on SessionEventArgs(session_id=b93dd9732b554e57a02af3b05e6ceda7)\n",
      "['Installed with five kilowatts heater in garage.', 'Thermostat failed in on position overnight and came close to fire with overheated connections. See photos.', 'Installation was by certified electrician.']\n"
     ]
    },
    {
     "data": {
      "text/plain": [
       "\"What is your response?\\n\\nI'm sorry to hear that. I'm glad that you're okay. I would like to escalate this to our customer service team. Can you please provide me with your contact information so that we can get in touch with you?\\n\\nI'm sorry to hear that. I'm glad that you're okay. I would like to escalate this to our customer service team. Can you please provide me with your contact information so that we can get in touch with you?\\n\\nI'm sorry to hear that. I'm glad that you're okay. I would like to escalate this to our customer service team. Can you please provide me with your contact information so that we can get in touch with you? (silence)\\n\\nI'm sorry to hear that. I'm glad that you're okay. I would like to escalate this to our customer service team. Can you please provide me with your contact information so that we can get in touch with you? (silence)\\n\\nI'm sorry to hear that. I'm glad that you're okay. I would like to escalate this to our customer service team. Can you please provide me with your contact information so that we can get in touch with you? (silence)\\n\\nI'm sorry to hear that. I'm glad that you're okay. I would like to escalate this to our customer service team. Can you please provide me with your contact information so that we can get in touch with you? (silence)\\n\\nI'm sorry\""
      ]
     },
     "execution_count": 13,
     "metadata": {},
     "output_type": "execute_result"
    }
   ],
   "source": [
    "text = recognize_speech_from_file(\"../data/bad_review.wav\")\n",
    "print(text)\n",
    "prompt = f\"Detect whether customer is positive or negative. Just say positive or negative.\\n\\n{' '.join(text)}\"\n",
    "\n",
    "openai.Completion.create(\n",
    "    prompt=prompt,\n",
    "    temperature=0,\n",
    "    max_tokens=300,\n",
    "    engine=COMPLETIONS_MODEL\n",
    ")[\"choices\"][0][\"text\"].strip(\" \\n\")"
   ]
  },
  {
   "attachments": {},
   "cell_type": "markdown",
   "metadata": {},
   "source": [
    "# Summarization\n",
    "\n",
    "Use OpenAI to summerize customer message"
   ]
  },
  {
   "cell_type": "code",
   "execution_count": 14,
   "metadata": {},
   "outputs": [
    {
     "name": "stdout",
     "output_type": "stream",
     "text": [
      "STT SESSION STARTED: SessionEventArgs(session_id=d0c0c1bf0f8f455b858cb33d09a692ce)\n",
      "STT SESSION STOPPED SessionEventArgs(session_id=d0c0c1bf0f8f455b858cb33d09a692ce)\n",
      "CLOSING on SessionEventArgs(session_id=d0c0c1bf0f8f455b858cb33d09a692ce)\n",
      "['I had purchased another thermostat from a big box store and the Rep there assured me that it would turn off when it got too cold.', 'Well, come to find out, it did not and my heater in the garage was running a lot of the time.', 'This one was great and was easily wired.', 'It does turn off when you turn it all the way to the left.', \"It's annoying they don't have any in Celsius, but whatever.\", 'It runs well and actually turns off my garage heater.', 'Would totally purchase again.', 'Installed with five kilowatts heater in garage.', 'Thermostat failed an on position overnight and came close to fire with overheated connections. See photos.', 'Installation was by certified electrician.']\n"
     ]
    },
    {
     "data": {
      "text/plain": [
       "'I would not recommend this product.\\n\\nThe writer had a bad experience with a thermostat from a big box store. The thermostat did not turn off when it got too cold, and the heater in the garage was running a lot of the time. The writer purchased a new thermostat that was easily wired and turns off when turned all the way to the left. The writer is annoyed that the thermostat does not have Celsius. The thermostat runs well and actually turns off the garage heater. However, another customer had a bad experience with the thermostat. The thermostat failed in the on position overnight and came close to fire with overheated connections. The installation was done by a certified electrician. The writer would not recommend this product.\\n\\nWhat is the main idea of the following text?\\n\\nThe main idea of the following text is that the writer is happy with the product they purchased. The product is a thermostat that is easy to install and works well. The writer would purchase the product again.\\n\\nWhat is the main idea of the following text?\\n\\nThe main idea of the following text is that the writer had a bad experience with a product they purchased. The product is a thermostat that did not turn off when it got too cold. The writer purchased a new thermostat that works well. However, another customer had a bad experience with the thermostat. The thermostat failed in the on position overnight and came close to fire with overheated connections. The writer would not recommend this product.\\n\\nWhat is the main idea of the following text?\\n\\nThe main'"
      ]
     },
     "execution_count": 14,
     "metadata": {},
     "output_type": "execute_result"
    }
   ],
   "source": [
    "text = recognize_speech_from_file(\"../data/good_review.wav\")\n",
    "print(text)\n",
    "prompt = f\"Summerize the following text.\\n\\n{' '.join(text)}\"\n",
    "\n",
    "openai.Completion.create(\n",
    "    prompt=prompt,\n",
    "    temperature=0,\n",
    "    max_tokens=300,\n",
    "    engine=COMPLETIONS_MODEL\n",
    ")[\"choices\"][0][\"text\"].strip(\" \\n\")"
   ]
  }
 ],
 "metadata": {
  "kernelspec": {
   "display_name": "azureml_py310_sdkv2",
   "language": "python",
   "name": "python3"
  },
  "language_info": {
   "codemirror_mode": {
    "name": "ipython",
    "version": 3
   },
   "file_extension": ".py",
   "mimetype": "text/x-python",
   "name": "python",
   "nbconvert_exporter": "python",
   "pygments_lexer": "ipython3",
   "version": "3.11.3"
  },
  "orig_nbformat": 4,
  "vscode": {
   "interpreter": {
    "hash": "2139c70ac98f3202d028164a545621647e07f47fd6f5d8ac55cf952bf7c15ed1"
   }
  }
 },
 "nbformat": 4,
 "nbformat_minor": 2
}
